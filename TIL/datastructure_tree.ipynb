{
 "cells": [
  {
   "cell_type": "markdown",
   "metadata": {},
   "source": [
    "## 트리 구조 구현"
   ]
  },
  {
   "cell_type": "markdown",
   "metadata": {},
   "source": [
    "### 파이썬 객체지향 프로그래밍으로 링크드 리스트 구현하기"
   ]
  },
  {
   "cell_type": "markdown",
   "metadata": {},
   "source": [
    "#### 노드 클래스 만들기"
   ]
  },
  {
   "cell_type": "code",
   "execution_count": 8,
   "metadata": {},
   "outputs": [],
   "source": [
    "class Node:\n",
    "    def __init__(self, value):\n",
    "        self.value = value\n",
    "        self.left = None\n",
    "        self.right = None"
   ]
  },
  {
   "cell_type": "markdown",
   "metadata": {},
   "source": [
    "#### 이진 탐색 트리에 데이터 넣기\n",
    "* 이진 탐색 트리 조건에 부합하게 데이터를 넣어야 함"
   ]
  },
  {
   "cell_type": "code",
   "execution_count": 9,
   "metadata": {},
   "outputs": [],
   "source": [
    "class NodeMgmt:\n",
    "    def __init__(self,head):\n",
    "        self.head = head\n",
    "        #root node = head\n",
    "    def insert(self, value):\n",
    "        self.current_node = self.head #순회를 시작할 노드 = Head\n",
    "        while True:\n",
    "            if value< self.current_node.value: #넣어주는 데이터가 head보다 작을 때\n",
    "                if self.current_node.left != None :#왼쪽 노드에 데이터가 있다면 \n",
    "                    self.current_node = self.current_node.left \n",
    "                else:\n",
    "                    self.current_node.left = Node(value)\n",
    "                    break #while문을 멈춰줘야함 \n",
    "            else: #같거나 크다면\n",
    "                if self.current_node.right !=None:\n",
    "                    self.current_node = self.current_node.right\n",
    "                else:\n",
    "                    self.current_node = Node(value)\n",
    "                    break "
   ]
  },
  {
   "cell_type": "code",
   "execution_count": 10,
   "metadata": {},
   "outputs": [],
   "source": [
    "head = Node(50)\n",
    "BST = NodeMgmt(head)\n",
    "BST.insert(2)"
   ]
  },
  {
   "cell_type": "markdown",
   "metadata": {
    "collapsed": true
   },
   "source": [
    "#### 이진 탐색 트리 탐색"
   ]
  },
  {
   "cell_type": "code",
   "execution_count": 22,
   "metadata": {},
   "outputs": [],
   "source": [
    "#search code\n",
    "class NodeMgmt:\n",
    "    def __init__(self,head):\n",
    "        self.head = head\n",
    "        #root node = head\n",
    "    def insert(self, value):\n",
    "        self.current_node = self.head #순회를 시작할 노드 = Head\n",
    "        while True:\n",
    "            if value< self.current_node.value: #넣어주는 데이터가 head보다 작을 때\n",
    "                if self.current_node.left != None :#왼쪽 노드에 데이터가 있다면 \n",
    "                    self.current_node = self.current_node.left \n",
    "                else:\n",
    "                    self.current_node.left = Node(value)\n",
    "                    break #while문을 멈춰줘야함 \n",
    "            else: #같거나 크다면\n",
    "                if self.current_node.right !=None:\n",
    "                    self.current_node = self.current_node.right\n",
    "                else:\n",
    "                    self.current_node.right = Node(value)\n",
    "                    break \n",
    "    def search(self, value):\n",
    "        self.current_node = self.head #Root node부터 순회 시작\n",
    "        while self.current_node: #현재 노드에 값이 없다면 break\n",
    "            if self.current_node.value == value:\n",
    "                return True\n",
    "            elif value < self.current_node.value : #찾는 값이 현재 노드보다 값이 작을 경우\n",
    "                self.current_node = self.current_node.left #왼쪽 노드로 이동\n",
    "            else:\n",
    "                self.current_node = self.current_node.right #크거나 같다면 오른쪽 노드로 이동\n",
    "        return False #탐색 후 값이 없다면 False반환 \n",
    "    def delete(self,value):\n",
    "    #삭제할 node가 없을 경우, False return\n",
    "        searched = False #해당 값이 트리에 있는지 없는지부터 찾자\n",
    "        self.current_node = self.head #head부터 순회 시작, 삭제할 값 \n",
    "        self.parent = self.head #parent를 저장\n",
    "        while self.current_node:\n",
    "            if self.current_node.value == value:\n",
    "                searched = True\n",
    "                break\n",
    "            elif value < self.current_node.value:#value가 현재 노드보다 작을 때 \n",
    "                self.parent = self.current_node\n",
    "                self.current_node = self.current_node.left #left value가 없으면 while문이 끝남\n",
    "            else: #현재 노드보다 같거나 클 때 \n",
    "                self.parent = self.current_node\n",
    "                self.current_node = self.current_node.right\n",
    "        #while 문이 끝난 경우 = value가 삭제할 값 혹은 값이 없음\n",
    "\n",
    "        if searched == False:\n",
    "            return False\n",
    "        #삭제해야 할 값이 있을 때 \n",
    "\n",
    "        #1 삭제할 노드가 Leaf \n",
    "        if self.current_node.left == None and self.current_node.right == None: #Child node가 없을 \n",
    "            if value < self.parent.value :\n",
    "                self.parent.left = None #왼쪽 자식노드 연결 끊기\n",
    "            else:\n",
    "                self.parent.right = None #오른쪽 자식노드 연결 끊기\n",
    "            del self.current_node\n",
    "\n",
    "        #2 삭제할 노드가 one child node를 가지고 있을 때 \n",
    "        if self.current_node.left != None and self.current_node.right == None:\n",
    "            if value < self.parent.value: #왼쪽\n",
    "                self.parent.left == self.current_node.left \n",
    "            else:\n",
    "                self.parent.right == self.current_node.left\n",
    "        elif self.current_node.left == None and self.current_node.right !=None: \n",
    "            if value < self.parent.value: #오른쪽 \n",
    "                self.parent.left = self.current_node.right\n",
    "            else:\n",
    "                self.parent.right = self.current_node.right\n",
    "        #3 삭제할 노드의 child가 2개\n",
    "        if self.current_node.left != None and self.current_node.right != None:\n",
    "            if value < self.parent.value: #삭제할 노드가 왼쪽 \n",
    "                self.change_node = self.current_node.right\n",
    "                self.change_node_parent = self.current_node.right #바꿀 노드의 부모 노드도 알아야함 \n",
    "                while self.change_node.left != None:\n",
    "                    self.change_node_parent= self.change_node #left 값이 있다면 계속 타고 내려가기 \n",
    "                    self.change_node = self.change_node.left  \n",
    "                if self.change_node.right != None:\n",
    "                    self.change_node_parent.left = self.change_node.right #왼쪽 노드 연결 끊고 바꿔줄 노드의 오른쪽 자식 노드가 있는 경우에 연결해주기 \n",
    "                else:\n",
    "                    self.change_node_parent.left = None #left 노드와의 연결 끊기\n",
    "                self.parent.left = self.change_node\n",
    "                self.change_node.right = self.current_node.right\n",
    "                self.change_node.left = self.current_node.left \n",
    "            else: #삭제할 코드가 오른쪽 \n",
    "                self.change_node = self.current_node.right\n",
    "                self.change_node_parent = self.current_node.right\n",
    "                while self.change_node.left != None:\n",
    "                    self.change_node_parent = self.change_node\n",
    "                    self.change_node = self.change_node.left\n",
    "                if self.change_node.right != None:\n",
    "                    self.change_node_parent.left = self.change_node.right\n",
    "                else:\n",
    "                    self.change_node_parent.left = None \n",
    "                self.parent.right = self.change_node \n",
    "                self.change_node.left = self.current_node.left \n",
    "                self.change_node.right = self.current_node.right"
   ]
  },
  {
   "cell_type": "code",
   "execution_count": 12,
   "metadata": {},
   "outputs": [],
   "source": [
    "head = Node(50)\n",
    "BST = NodeMgmt(head)\n",
    "BST.insert(2)\n",
    "BST.insert(10)\n",
    "BST.insert(12)\n",
    "BST.insert(14)\n",
    "BST.insert(13)\n",
    "BST.insert(20)\n",
    "BST.insert(56)\n",
    "BST.insert(57)\n",
    "BST.insert(58)"
   ]
  },
  {
   "cell_type": "code",
   "execution_count": 13,
   "metadata": {},
   "outputs": [
    {
     "data": {
      "text/plain": [
       "True"
      ]
     },
     "execution_count": 13,
     "metadata": {},
     "output_type": "execute_result"
    }
   ],
   "source": [
    "BST.search(13) #있는 데이터 찾기 "
   ]
  },
  {
   "cell_type": "code",
   "execution_count": 14,
   "metadata": {},
   "outputs": [
    {
     "data": {
      "text/plain": [
       "False"
      ]
     },
     "execution_count": 14,
     "metadata": {},
     "output_type": "execute_result"
    }
   ],
   "source": [
    "BST.search(-1) #없는 데이터 찾기 "
   ]
  },
  {
   "cell_type": "markdown",
   "metadata": {},
   "source": [
    "#### 이진 탐색 트리 삭제 \n",
    "* 매우 복잡함. **경우를 나누어서 이해하는 것이 좋음**\n",
    "\n",
    "#### Leaf Node 삭제 \n",
    "* Leaf Node: Child Node 가 없는 Node\n",
    "* 삭제할 Node의 Parent Node가 삭제할 Node를 가리키지 않도록 한다. \n",
    "<img src=\"http://www.fun-coding.org/00_Images/tree_remove_leaf.png\" width=\"800\" />\n",
    "\n",
    "#### Child Node 가 하나인 Node 삭제 \n",
    "* 삭제할 Node의 Parent Node가 삭제할 Node의 Child Node를 가리키도록 한다.\n",
    "<img src=\"http://www.fun-coding.org/00_Images/tree_remove_1child.png\" width=\"800\" />\n",
    "\n",
    "#### Child Node 가 두 개인 Node 삭제\n",
    "1. **삭제할 Node의 오른쪽 자식 중, 가장 작은 값을 삭제할 Node의 Parent Node가 가리키도록 한다.**\n",
    "2. 삭제할 Node의 왼쪽 자식 중, 가장 큰 값을 삭제할 Node의 Parent Node가 가리키도록 한다.\n",
    "<img src=\"http://www.fun-coding.org/00_Images/tree_remove_2child.png\" width=\"800\" />\n",
    "\n",
    "##### 삭제할 Node의 오른쪽 자식중, 가장 작은 값을 삭제할 Node의 Parent Node가 가리키게 할 경우\n",
    "- 삭제할 Node의 오른쪽 자식 선택\n",
    "- 오른쪽 자식의 가장 왼쪽에 있는 Node를 선택\n",
    "- 해당 Node를 삭제할 Node의 Parent Node의 왼쪽 Branch가 가리키게 함\n",
    "- 해당 Node의 왼쪽 Branch가 삭제할 Node의 왼쪽 Child Node를 가리키게 함\n",
    "- 해당 Node의 오른쪽 Branch가 삭제할 Node의 오른쪽 Child Node를 가리키게 함\n",
    "- 만약 해당 Node가 오른쪽 Child Node를 가지고 있었을 경우에는, 해당 Node의 본래 Parent Node의 왼쪽 Branch가 해당 오른쪽 Child Node를 가리키게 함"
   ]
  },
  {
   "cell_type": "markdown",
   "metadata": {},
   "source": [
    "### 5.5. 이진 탐색 트리 삭제 코드 구현과 분석"
   ]
  },
  {
   "cell_type": "markdown",
   "metadata": {},
   "source": [
    "#### 5.5.1 삭제할 Node 탐색\n",
    "- 삭제할 Node가 없는 경우도 처리해야 함\n",
    "  - 이를 위해 삭제할 Node가 없는 경우는 False를 리턴하고, 함수를 종료 시킴"
   ]
  },
  {
   "cell_type": "code",
   "execution_count": 15,
   "metadata": {},
   "outputs": [],
   "source": []
  },
  {
   "cell_type": "markdown",
   "metadata": {
    "collapsed": true
   },
   "source": [
    "참고: http://ejklike.github.io/2018/01/09/traversing-a-binary-tree-1.html"
   ]
  },
  {
   "cell_type": "markdown",
   "metadata": {},
   "source": [
    "#### 파이썬 전체 코드 테스트\n",
    "- random 라이브러리 활용\n",
    "  - random.randint(첫번째 숫자, 마지막 숫자): 첫번째 숫자부터 마지막 숫자 사이에 있는 숫자를 랜덤하게 선택해서 리턴\n",
    "    - 예: random.randint(0, 99): 0에서 99까지 숫자중 특정 숫자를 랜덤하게 선택해서 리턴해줌"
   ]
  },
  {
   "cell_type": "code",
   "execution_count": 24,
   "metadata": {},
   "outputs": [
    {
     "ename": "AttributeError",
     "evalue": "'NodeMgmt' object has no attribute 'current_node'",
     "output_type": "error",
     "traceback": [
      "\u001b[0;31m---------------------------------------------------------------------------\u001b[0m",
      "\u001b[0;31mAttributeError\u001b[0m                            Traceback (most recent call last)",
      "Input \u001b[0;32mIn [24]\u001b[0m, in \u001b[0;36m<cell line: 30>\u001b[0;34m()\u001b[0m\n\u001b[1;32m     29\u001b[0m \u001b[38;5;66;03m# 선택한 10개의 숫자를 삭제 (삭제 기능 확인)\u001b[39;00m\n\u001b[1;32m     30\u001b[0m \u001b[38;5;28;01mfor\u001b[39;00m del_num \u001b[38;5;129;01min\u001b[39;00m delete_nums:\n\u001b[0;32m---> 31\u001b[0m     \u001b[38;5;28;01mif\u001b[39;00m \u001b[43mbinary_tree\u001b[49m\u001b[38;5;241;43m.\u001b[39;49m\u001b[43mdelete\u001b[49m\u001b[43m(\u001b[49m\u001b[43mdel_num\u001b[49m\u001b[43m)\u001b[49m \u001b[38;5;241m==\u001b[39m \u001b[38;5;28;01mFalse\u001b[39;00m:\n\u001b[1;32m     32\u001b[0m         \u001b[38;5;28mprint\u001b[39m(\u001b[38;5;124m'\u001b[39m\u001b[38;5;124mdelete failed\u001b[39m\u001b[38;5;124m'\u001b[39m, del_num)\n",
      "Input \u001b[0;32mIn [22]\u001b[0m, in \u001b[0;36mNodeMgmt.delete\u001b[0;34m(self, value)\u001b[0m\n\u001b[1;32m     58\u001b[0m     \u001b[38;5;28;01mdel\u001b[39;00m \u001b[38;5;28mself\u001b[39m\u001b[38;5;241m.\u001b[39mcurrent_node\n\u001b[1;32m     60\u001b[0m \u001b[38;5;66;03m#2 삭제할 노드가 one child node를 가지고 있을 때 \u001b[39;00m\n\u001b[0;32m---> 61\u001b[0m \u001b[38;5;28;01mif\u001b[39;00m \u001b[38;5;28;43mself\u001b[39;49m\u001b[38;5;241;43m.\u001b[39;49m\u001b[43mcurrent_node\u001b[49m\u001b[38;5;241m.\u001b[39mleft \u001b[38;5;241m!=\u001b[39m \u001b[38;5;28;01mNone\u001b[39;00m \u001b[38;5;129;01mand\u001b[39;00m \u001b[38;5;28mself\u001b[39m\u001b[38;5;241m.\u001b[39mcurrent_node\u001b[38;5;241m.\u001b[39mright \u001b[38;5;241m==\u001b[39m \u001b[38;5;28;01mNone\u001b[39;00m:\n\u001b[1;32m     62\u001b[0m     \u001b[38;5;28;01mif\u001b[39;00m value \u001b[38;5;241m<\u001b[39m \u001b[38;5;28mself\u001b[39m\u001b[38;5;241m.\u001b[39mparent\u001b[38;5;241m.\u001b[39mvalue: \u001b[38;5;66;03m#왼쪽\u001b[39;00m\n\u001b[1;32m     63\u001b[0m         \u001b[38;5;28mself\u001b[39m\u001b[38;5;241m.\u001b[39mparent\u001b[38;5;241m.\u001b[39mleft \u001b[38;5;241m==\u001b[39m \u001b[38;5;28mself\u001b[39m\u001b[38;5;241m.\u001b[39mcurrent_node\u001b[38;5;241m.\u001b[39mleft \n",
      "\u001b[0;31mAttributeError\u001b[0m: 'NodeMgmt' object has no attribute 'current_node'"
     ]
    }
   ],
   "source": [
    "# 0 ~ 999 숫자 중에서 임의로 100개를 추출해서, 이진 탐색 트리에 입력, 검색, 삭제\n",
    "import random\n",
    "\n",
    "# 0 ~ 999 중, 100 개의 숫자 랜덤 선택\n",
    "bst_nums = set()\n",
    "while len(bst_nums) != 100:\n",
    "    bst_nums.add(random.randint(0, 999))\n",
    "#print (bst_nums)\n",
    "\n",
    "# 선택된 100개의 숫자를 이진 탐색 트리에 입력, 임의로 루트노드는 500을 넣기로 함\n",
    "head = Node(500)\n",
    "binary_tree = NodeMgmt(head)\n",
    "for num in bst_nums:\n",
    "    binary_tree.insert(num)\n",
    "    \n",
    "# 입력한 100개의 숫자 검색 (검색 기능 확인)\n",
    "for num in bst_nums:\n",
    "    if binary_tree.search(num) == False:\n",
    "        print ('search failed', num)\n",
    "#     else:\n",
    "#         print('print', num)\n",
    "\n",
    "# 입력한 100개의 숫자 중 10개의 숫자를 랜덤 선택\n",
    "delete_nums = set()\n",
    "bst_nums = list(bst_nums)\n",
    "while len(delete_nums) != 10:\n",
    "    delete_nums.add(bst_nums[random.randint(0, 99)])\n",
    "\n",
    "# 선택한 10개의 숫자를 삭제 (삭제 기능 확인)\n",
    "for del_num in delete_nums:\n",
    "    if binary_tree.delete(del_num) == False:\n",
    "        print('delete failed', del_num)"
   ]
  },
  {
   "cell_type": "markdown",
   "metadata": {},
   "source": [
    "### 6. 이진 탐색 트리의 시간 복잡도와 단점\n",
    "#### 6.1. 시간 복잡도 (탐색시)\n",
    "  - depth (트리의 높이) 를 h라고 표기한다면, O(h)\n",
    "  - n개의 노드를 가진다면, $h = log_2{n} $ 에 가까우므로, 시간 복잡도는 $ O(log{n}) $ \n",
    "     - 참고: 빅오 표기법에서 $log{n}$ 에서의 log의 밑은 10이 아니라, 2입니다.\n",
    "       - 한번 실행시마다, 50%의 실행할 수도 있는 명령을 제거한다는 의미. 즉 50%의 실행시간을 단축시킬 수 있다는 것을 의미함\n",
    "<img src=\"https://www.mathwarehouse.com/programming/images/binary-search-tree/binary-search-tree-sorted-array-animation.gif\" />\n",
    "\n",
    "(출처: https://www.mathwarehouse.com/programming/gifs/binary-search-tree.php#binary-search-tree-insertion-node)"
   ]
  },
  {
   "cell_type": "markdown",
   "metadata": {},
   "source": []
  },
  {
   "cell_type": "markdown",
   "metadata": {},
   "source": [
    "#### 6.2. 이진 탐색 트리 단점\n",
    "  - 평균 시간 복잡도는 $ O(log{n}) $ 이지만, \n",
    "    - 이는 트리가 균형잡혀 있을 때의 평균 시간복잡도이며,\n",
    "  - 다음 예와 같이 구성되어 있을 경우, 최악의 경우는 링크드 리스트등과 동일한 성능을 보여줌 ( $O(n)$ )\n",
    "<img src=\"http://www.fun-coding.org/00_Images/worstcase_bst.png\" width=\"300\" />"
   ]
  }
 ],
 "metadata": {
  "kernelspec": {
   "display_name": "Python 3 (ipykernel)",
   "language": "python",
   "name": "python3"
  },
  "language_info": {
   "codemirror_mode": {
    "name": "ipython",
    "version": 3
   },
   "file_extension": ".py",
   "mimetype": "text/x-python",
   "name": "python",
   "nbconvert_exporter": "python",
   "pygments_lexer": "ipython3",
   "version": "3.8.13"
  },
  "nbTranslate": {
   "displayLangs": [
    "*"
   ],
   "hotkey": "alt-t",
   "langInMainMenu": true,
   "sourceLang": "en",
   "targetLang": "fr",
   "useGoogleTranslate": true
  },
  "toc": {
   "base_numbering": 1,
   "nav_menu": {},
   "number_sections": true,
   "sideBar": true,
   "skip_h1_title": false,
   "title_cell": "Table of Contents",
   "title_sidebar": "Contents",
   "toc_cell": false,
   "toc_position": {},
   "toc_section_display": true,
   "toc_window_display": false
  }
 },
 "nbformat": 4,
 "nbformat_minor": 1
}
