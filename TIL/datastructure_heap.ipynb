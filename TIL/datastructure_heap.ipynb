{
 "cells": [
  {
   "cell_type": "markdown",
   "metadata": {},
   "source": [
    "##  힙 구조 구현"
   ]
  },
  {
   "cell_type": "markdown",
   "metadata": {},
   "source": [
    "### 힙 구조의 데이터 삽입 및 삭제 구현 (Max Heap)"
   ]
  },
  {
   "cell_type": "code",
   "execution_count": 1,
   "metadata": {},
   "outputs": [],
   "source": [
    "class Heap:\n",
    "    def __init__(self,data):\n",
    "        self.heap_array = list()\n",
    "        self.heap_array.append(None) #0번 index는 비워두기 \n",
    "        self.heap_array.append(data) #data 입력 \n",
    "    \n",
    "    def move_up(self, inserted_idx): #부모 노드가 더 큰지 아닌지 \n",
    "        if inserted_idx <=1 : #Root node라면\n",
    "            return False\n",
    "        parent_idx = inserted_idx // 2\n",
    "        if self.heap_array[inserted_idx] > self.heap_array[parent_idx]:\n",
    "            return True\n",
    "        else:\n",
    "            return False\n",
    "    \n",
    "    def move_down(self,popped_idx): #true = 바꿔줄지 말지 결정\n",
    "        left_child_popped_idx = popped_idx *2 #왼쪽 child node 의 인덱스 \n",
    "        right_child_popped_idx = popped_idx *2 +1\n",
    "        \n",
    "        #case1: left child node가 없을 때 \n",
    "        if left_child_popped_idx >=len(self.heap_array):\n",
    "            return False \n",
    "        #case2: left child node 있고 right는 없을 때 \n",
    "        elif right_child_popped_idx >= len(self.heap_array):\n",
    "            if self.heap_array[popped_idx] < self.heap_array[left_child_popped_idx]: #childe node가 더 크다면\n",
    "                return True\n",
    "            else:\n",
    "                return False\n",
    "        #case3: 2 childe node\n",
    "        else:\n",
    "            if self.heap_array[left_child_popped_idx] > self.heap_array[right_child_popped_idx]:#두 자식 노드 중 왼쪽이 더 크다면\n",
    "                if self.heap_array[popped_idx] < self.heap_array[left_child_popped_idx]:\n",
    "                    return True\n",
    "                else:\n",
    "                    return False\n",
    "            else:\n",
    "                if self.heap_array[popped_idx] < self.heap_array[right_child_popped_idx]:\n",
    "                    return True\n",
    "                else:\n",
    "                    return False\n",
    "        \n",
    "    def insert(self, data):\n",
    "        if len(self.heap_array) == 0:\n",
    "            self.heap_array.append(None)\n",
    "            self.heap_array.append(data)\n",
    "            return True\n",
    "        self.heap_array.append(data)\n",
    "        \n",
    "        #추가한 data가 힙의 구조에 맞는지 확인\n",
    "        inserted_idx = len(self.heap_array)-1 #0번째 index가 none이므로\n",
    "        while self.move_up(inserted_idx):\n",
    "            parent_idx = inserted_idx // 2\n",
    "            self.heap_array[inserted_idx], self.heap_array[parent_idx] = self.heap_array[parent_idx], self.heap_array[inserted_idx]\n",
    "            #삽입해준 값과 부모 노드의 값 바꿔주기 = swap \n",
    "            #swap 이후에도 부모 노드와의 크기 비교가 필요하다\n",
    "            inserted_idx = parent_idx #바꿔주면 다시 부모노드와 크기 비교됨 \n",
    "        return True\n",
    "# 보통 삭제는 최상단 노드 (root 노드)를 삭제하는 것이 일반적\n",
    "# 중간에 있는 값을 꺼내오는 경우는 없음\n",
    "# Max heap: 최댓값, Min heap: 최솟값 추출    \n",
    "\n",
    "    def pop(self):\n",
    "        if len(self.heap_array) <= 1 : \n",
    "            return None\n",
    "        returned_data = self.heap_array[1]\n",
    "        self.heap_array[1] = self.heap_array[-1] #맨 마지막에 있었던 데이터를 root 위치로 \n",
    "        del self.heap_array[-1]\n",
    "        popped_idx = 1\n",
    "        \n",
    "        while self.move_down(popped_idx): \n",
    "            left_child_popped_idx = popped_idx *2 #왼쪽 child node 의 인덱스 \n",
    "            right_child_popped_idx = popped_idx *2 +1\n",
    "            \n",
    "            #case2: left child node 있고 right는 없을 때 \n",
    "            if right_child_popped_idx >= len(self.heap_array):\n",
    "                if self.heap_array[popped_idx] < self.heap_array[left_child_popped_idx]: \n",
    "                    self.heap_array[popped_idx], self.heap_array[left_child_popped_idx]= self.heap_array[left_child_popped_idx], self.heap_array[popped_idx]\n",
    "                    popped_idx = left_child_popped_idx\n",
    "            #case3: 2 childe node\n",
    "            else:\n",
    "                if self.heap_array[left_child_popped_idx] > self.heap_array[right_child_popped_idx]:#두 자식 노드 중 왼쪽이 더 크다면\n",
    "                    if self.heap_array[popped_idx] < self.heap_array[left_child_popped_idx]:\n",
    "                        self.heap_array[popped_idx], self.heap_array[left_child_popped_idx] = self.heap_array[left_child_popped_idx], self.heap_array[popped_idx]\n",
    "                        popped_indx = left_child_popped_idx\n",
    "                else:\n",
    "                    if self.heap_array[popped_idx] < self.heap_array[right_child_popped_idx]:\n",
    "                        self.heap_array[popped_idx], self.heap_array[right_child_popped_idx] = self.heap_array[right_child_popped_idx], self.heap_array[popped_idx]\n",
    "                        popped_indx = right_child_popped_idx\n",
    "        return returned_data\n",
    "        "
   ]
  },
  {
   "cell_type": "code",
   "execution_count": 2,
   "metadata": {},
   "outputs": [
    {
     "data": {
      "text/plain": [
       "[None, 20, 10, 15, 5, 4, 8]"
      ]
     },
     "execution_count": 2,
     "metadata": {},
     "output_type": "execute_result"
    }
   ],
   "source": [
    "#insert 구현 확인\n",
    "heap = Heap(15)\n",
    "heap.insert(10)\n",
    "heap.insert(8)\n",
    "heap.insert(5)\n",
    "heap.insert(4)\n",
    "heap.insert(20)\n",
    "\n",
    "heap.heap_array"
   ]
  },
  {
   "cell_type": "code",
   "execution_count": 3,
   "metadata": {},
   "outputs": [
    {
     "data": {
      "text/plain": [
       "20"
      ]
     },
     "execution_count": 3,
     "metadata": {},
     "output_type": "execute_result"
    }
   ],
   "source": [
    "#data 삭제 구현 확인\n",
    "heap.pop()"
   ]
  },
  {
   "cell_type": "code",
   "execution_count": 4,
   "metadata": {},
   "outputs": [
    {
     "data": {
      "text/plain": [
       "[None, 15, 10, 8, 5, 4]"
      ]
     },
     "execution_count": 4,
     "metadata": {},
     "output_type": "execute_result"
    }
   ],
   "source": [
    "heap.heap_array"
   ]
  }
 ],
 "metadata": {
  "kernelspec": {
   "display_name": "Python 3 (ipykernel)",
   "language": "python",
   "name": "python3"
  },
  "language_info": {
   "codemirror_mode": {
    "name": "ipython",
    "version": 3
   },
   "file_extension": ".py",
   "mimetype": "text/x-python",
   "name": "python",
   "nbconvert_exporter": "python",
   "pygments_lexer": "ipython3",
   "version": "3.8.13"
  },
  "nbTranslate": {
   "displayLangs": [
    "*"
   ],
   "hotkey": "alt-t",
   "langInMainMenu": true,
   "sourceLang": "en",
   "targetLang": "fr",
   "useGoogleTranslate": true
  },
  "toc": {
   "base_numbering": 1,
   "nav_menu": {},
   "number_sections": true,
   "sideBar": true,
   "skip_h1_title": false,
   "title_cell": "Table of Contents",
   "title_sidebar": "Contents",
   "toc_cell": false,
   "toc_position": {},
   "toc_section_display": true,
   "toc_window_display": false
  }
 },
 "nbformat": 4,
 "nbformat_minor": 1
}
