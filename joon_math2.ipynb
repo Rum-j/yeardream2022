{
  "nbformat": 4,
  "nbformat_minor": 0,
  "metadata": {
    "colab": {
      "name": "joon_math2.ipynb",
      "provenance": [],
      "collapsed_sections": [],
      "authorship_tag": "ABX9TyOHxYz14uIdzXIkl1nXExkY"
    },
    "kernelspec": {
      "name": "python3",
      "display_name": "Python 3"
    },
    "language_info": {
      "name": "python"
    }
  },
  "cells": [
    {
      "cell_type": "markdown",
      "source": [
        "#### 기본수학 2 \n",
        "\n",
        "백준 단계별 문제풀이 기본수학2 챕터를 풀어보았다.    \n",
        "대부분 소수에 관한 문제들이라 코드가 클론 수준인데 (...)   \n",
        "그와중에 시간 초과가 뜨는 문제가 몇 개 있어 조금 험난했던 기억..   "
      ],
      "metadata": {
        "id": "wC8rLhYWd0qa"
      }
    },
    {
      "cell_type": "markdown",
      "source": [
        "\n",
        ">1단계   \n",
        "\n",
        "문제   \n",
        "주어진 수 N개 중에서 소수가 몇 개인지 찾아서 출력하는 프로그램을 작성하시오.   \n",
        "   \n",
        "입력   \n",
        "첫 줄에 수의 개수 N이 주어진다. N은 100이하이다. 다음으로 N개의 수가 주어지는데 수는 1,000 이하의 자연수이다.   \n",
        "   \n",
        "출력   \n",
        "주어진 수들 중 소수의 개수를 출력한다."
      ],
      "metadata": {
        "id": "-XVcC8QozTC-"
      }
    },
    {
      "cell_type": "code",
      "source": [
        "#1978\n",
        "#import sys\n",
        "#input = sys.stdin.readline 코랩에서는 안돌아가지만 제출할 때 유용한 코드이다. \n",
        "\n",
        "# 1은 소수가 아니다.. \n",
        "#list로 숫자들을 받아서 소수가 아닌 수들을 remove 할까 생각해보았으나 값이 빠지면 생각했던 대로 indexing이 되지 않아 튜플로 받았다. \n",
        "\n",
        "n =  int(input())\n",
        "data =tuple(map(int, input().split())) #리스트 안한 이유 = 리스트로 돌다가 remove 하면 값이 빠짐 \n",
        "count=[]\n",
        "\n",
        "for j in data:\n",
        "    yaksu=[]\n",
        "    for a in range(1, int(j)) :\n",
        "        if j%a == 0 : \n",
        "            yaksu.append(a) #약수개수 세주기,  자기 자신 제외 \n",
        "            '''\n",
        "        print(yaksu)\n",
        "    print('여기까지') 중간에 약수 리스트가 어떻게 진행되는지 보기 위함\n",
        "    '''\n",
        "    \n",
        "    if len(yaksu) == 1 :\n",
        "        count.append(j)\n",
        "print(len(count))"
      ],
      "metadata": {
        "colab": {
          "base_uri": "https://localhost:8080/"
        },
        "id": "j1Bv5RfXzO65",
        "outputId": "3bcb9bbe-2c38-4a46-c497-3f5dbb8f6f78"
      },
      "execution_count": 6,
      "outputs": [
        {
          "output_type": "stream",
          "name": "stdout",
          "text": [
            "4\n",
            "1 3 5 7\n",
            "3\n"
          ]
        }
      ]
    },
    {
      "cell_type": "markdown",
      "source": [
        ">2단계      \n",
        "   \n",
        "문제    \n",
        "자연수 M과 N이 주어질 때 M이상 N이하의 자연수 중 소수인 것을 모두 골라 이들 소수의 합과 최솟값을 찾는 프로그램을 작성하시오.   \n",
        "\n",
        "예를 들어 M=60, N=100인 경우 60이상 100이하의 자연수 중 소수는 61, 67, 71, 73, 79, 83, 89, 97 총 8개가 있으므로, 이들 소수의 합은 620이고, 최솟값은 61이 된다.   \n",
        "\n",
        "입력   \n",
        "입력의 첫째 줄에 M이, 둘째 줄에 N이 주어진다.   \n",
        "\n",
        "M과 N은 10,000이하의 자연수이며, M은 N보다 작거나 같다.   \n",
        "\n",
        "출력   \n",
        "M이상 N이하의 자연수 중 소수인 것을 모두 찾아 첫째 줄에 그 합을, 둘째 줄에 그 중 최솟값을 출력한다.    \n",
        "\n",
        "단, M이상 N이하의 자연수 중 소수가 없을 경우는 첫째 줄에 -1을 출력한다."
      ],
      "metadata": {
        "id": "aKoVjmX3BFF4"
      }
    },
    {
      "cell_type": "code",
      "source": [
        "#2581번\n",
        "a, b =  map( int, (input().strip() for _ in range(0, 2)  ) ) #2줄 입력받기 \n",
        "\n",
        "def sosuni(x):\n",
        "    yaksu = []\n",
        "    for a in range(1, int(x+1)) :\n",
        "        if x%a == 0 : \n",
        "            yaksu.append(a) #약수 리스트\n",
        "    if len(yaksu) == 2 :\n",
        "        return True\n",
        "    else :\n",
        "        return False\n",
        "\n",
        "sosu=[]\n",
        "for k in range (a, b+1)  :     \n",
        "    if (sosuni(k) == True):\n",
        "        sosu.append(k)\n",
        "    pass\n",
        "\n",
        "if len(sosu) == 0:\n",
        "        print(-1)\n",
        "else:\n",
        "        print(sum(sosu) )\n",
        "        print(min(sosu) )\n",
        "\n",
        "        "
      ],
      "metadata": {
        "colab": {
          "base_uri": "https://localhost:8080/"
        },
        "id": "k_fxRoJJBK2u",
        "outputId": "00994731-2999-407c-e5f7-13c6b8becf09"
      },
      "execution_count": 8,
      "outputs": [
        {
          "output_type": "stream",
          "name": "stdout",
          "text": [
            "60\n",
            "100\n",
            "620\n",
            "61\n"
          ]
        }
      ]
    },
    {
      "cell_type": "markdown",
      "source": [
        ">3단계    \n",
        "   \n",
        "문제   \n",
        "정수 N이 주어졌을 때, 소인수분해하는 프로그램을 작성하시오.   \n",
        "   \n",
        "입력   \n",
        "첫째 줄에 정수 N (1 ≤ N ≤ 10,000,000)이 주어진다.   \n",
        "\n",
        "출력   \n",
        "N의 소인수분해 결과를 한 줄에 하나씩 오름차순으로 출력한다. N이 1인 경우 아무것도 출력하지 않는다."
      ],
      "metadata": {
        "id": "QQsIxbuDb4YA"
      }
    },
    {
      "cell_type": "code",
      "source": [
        "#11653번\n",
        "#별로 추천하는 코드가 아니다.. 다행히 시간초과가 뜨지는 않았지만 채점하는 데 무려 9분이 걸린 코드 \n",
        "#스터디원이 8줄로 끝내는 걸 보고 내가 한참 잘못 됐구나 싶었고ㅎ\n",
        "\n",
        "x = int(input())\n",
        "if x ==1 :\n",
        "    print (\"\")\n",
        "def sosuni(x):\n",
        "    yaksu = []\n",
        "    for a in range(1, int(x+1)) :\n",
        "        if x%a == 0 : \n",
        "            yaksu.append(a) \n",
        "    if len(yaksu) == 2 :\n",
        "        return True\n",
        "    else :\n",
        "        return False #소수인지 아닌지 판단\n",
        "\n",
        "b = []\n",
        "for a in range(1, int(x+1)) :\n",
        "    if (x%a == 0) and (sosuni(a) == True): \n",
        "        b.append(a) # b = 소인수 찾아주기 \n",
        "while x>1 :\n",
        "    if x% (b[0]) == 0 :\n",
        "        print(b[0])\n",
        "        x = x / (b[0])\n",
        "    elif x% (b[0] ) != 0:\n",
        "        del b[0] #나눠주다가 더 나눌 수 없으면 없애기\n",
        "\n"
      ],
      "metadata": {
        "colab": {
          "base_uri": "https://localhost:8080/"
        },
        "id": "IGS9F-Z4b_o9",
        "outputId": "bbe36e25-3e32-4c45-fac0-a2dfec108de9"
      },
      "execution_count": 9,
      "outputs": [
        {
          "output_type": "stream",
          "name": "stdout",
          "text": [
            "72\n",
            "2\n",
            "2\n",
            "2\n",
            "3\n",
            "3\n"
          ]
        }
      ]
    },
    {
      "cell_type": "markdown",
      "source": [
        "> 4단계 \n",
        "\n",
        "문제   \n",
        "M이상 N이하의 소수를 모두 출력하는 프로그램을 작성하시오.\n",
        "\n",
        "입력   \n",
        "첫째 줄에 자연수 M과 N이 빈 칸을 사이에 두고 주어진다. (1 ≤ M ≤ N ≤ 1,000,000) M이상 N이하의 소수가 하나 이상 있는 입력만 주어진다.\n",
        "\n",
        "출력   \n",
        "한 줄에 하나씩, 증가하는 순서대로 소수를 출력한다."
      ],
      "metadata": {
        "id": "qg2G_ga_ekuZ"
      }
    },
    {
      "cell_type": "code",
      "source": [
        "#1929번\n",
        "\n",
        "'''시간초과 예제 \n",
        "a, b =  map(int, input().split())\n",
        "for k in range (a, b+1)  :     \n",
        "    yaksu = []\n",
        "    for a in range(2, k) :\n",
        "        if k%a == 0 : \n",
        "            yaksu.append(a) \n",
        "    if len(yaksu) == 0 :  \n",
        "        print(k)\n",
        "        '''\n",
        "a, b =  map(int, input().split())\n",
        "sosu = [ p for p in range(a,b+1) if all([p%j for j in range(2,p)]) ] #j로 나눠지지 않는 수 \n",
        "print(*sosu, sep='\\n')\n",
        "#이것도 시간초과라고 하네요..."
      ],
      "metadata": {
        "colab": {
          "base_uri": "https://localhost:8080/"
        },
        "id": "jg-65p10eouc",
        "outputId": "dec22cd3-7102-439d-fd22-64eca5d3417d"
      },
      "execution_count": 10,
      "outputs": [
        {
          "output_type": "stream",
          "name": "stdout",
          "text": [
            "3 16\n",
            "3\n",
            "5\n",
            "7\n",
            "11\n",
            "13\n"
          ]
        }
      ]
    },
    {
      "cell_type": "markdown",
      "source": [
        "> 5단계   \n",
        "\n",
        "문제   \n",
        "베르트랑 공준은 임의의 자연수 n에 대하여, n보다 크고, 2n보다 작거나 같은 소수는 적어도 하나 존재한다는 내용을 담고 있다.\n",
        "\n",
        "이 명제는 조제프 베르트랑이 1845년에 추측했고, 파프누티 체비쇼프가 1850년에 증명했다.\n",
        "\n",
        "예를 들어, 10보다 크고, 20보다 작거나 같은 소수는 4개가 있다. (11, 13, 17, 19) 또, 14보다 크고, 28보다 작거나 같은 소수는 3개가 있다. (17,19, 23)\n",
        "\n",
        "자연수 n이 주어졌을 때, n보다 크고, 2n보다 작거나 같은 소수의 개수를 구하는 프로그램을 작성하시오. \n",
        "\n",
        "입력   \n",
        "입력은 여러 개의 테스트 케이스로 이루어져 있다. 각 케이스는 n을 포함하는 한 줄로 이루어져 있다.\n",
        "\n",
        "입력의 마지막에는 0이 주어진다.\n",
        "\n",
        "출력   \n",
        "각 테스트 케이스에 대해서, n보다 크고, 2n보다 작거나 같은 소수의 개수를 출력한다."
      ],
      "metadata": {
        "id": "D5DScorRCbPQ"
      }
    },
    {
      "cell_type": "code",
      "source": [
        "#4948 , 얘도 시간초과 \n",
        "i=1\n",
        "while i==1 :\n",
        "    x = int(input())\n",
        "    if x == 0 :\n",
        "        i= 0 #0 입력 받으면 끊어주기 \n",
        "    elif x== 1:\n",
        "        print(1)\n",
        "    else :\n",
        "        sosu = [ p for p in range(x+1,2*x) if all([p%j for j in range(2,p)]) ] # x부터 시작하면 본인이 소수일때 +1 되어서 나옴\n",
        "        print(len(sosu))\n",
        "        continue"
      ],
      "metadata": {
        "colab": {
          "base_uri": "https://localhost:8080/"
        },
        "id": "BHd_3PQXCivk",
        "outputId": "e13ab384-aee0-4860-abdc-22a6bc1790d1"
      },
      "execution_count": 11,
      "outputs": [
        {
          "name": "stdout",
          "output_type": "stream",
          "text": [
            "1\n",
            "1\n",
            "13\n",
            "3\n",
            "100\n",
            "21\n",
            "1000\n",
            "135\n",
            "10000\n",
            "1033\n",
            "0\n"
          ]
        }
      ]
    },
    {
      "cell_type": "markdown",
      "source": [
        "> 6단계    \n",
        "   \n",
        "문제   \n",
        "1보다 큰 자연수 중에서  1과 자기 자신을 제외한 약수가 없는 자연수를 소수라고 한다. 예를 들어, 5는 1과 5를 제외한 약수가 없기 때문에 소수이다. 하지만, 6은 6 = 2 × 3 이기 때문에 소수가 아니다.   \n",
        "\n",
        "골드바흐의 추측은 유명한 정수론의 미해결 문제로, 2보다 큰 모든 짝수는 두 소수의 합으로 나타낼 수 있다는 것이다. 이러한 수를 골드바흐 수라고 한다. 또, 짝수를 두 소수의 합으로 나타내는 표현을 그 수의 골드바흐 파티션이라고 한다. 예를 들면, 4 = 2 + 2, 6 = 3 + 3, 8 = 3 + 5, 10 = 5 + 5, 12 = 5 + 7, 14 = 3 + 11, 14 = 7 + 7이다. 10000보다 작거나 같은 모든 짝수 n에 대한 골드바흐 파티션은 존재한다.   \n",
        "\n",
        "2보다 큰 짝수 n이 주어졌을 때, n의 골드바흐 파티션을 출력하는 프로그램을 작성하시오. 만약 가능한 n의 골드바흐 파티션이 여러 가지인 경우에는 두 소수의 차이가 가장 작은 것을 출력한다.   \n",
        "\n",
        "입력   \n",
        "첫째 줄에 테스트 케이스의 개수 T가 주어진다. 각 테스트 케이스는 한 줄로 이루어져 있고 짝수 n이 주어진다.   \n",
        "\n",
        "출력   \n",
        "각 테스트 케이스에 대해서 주어진 n의 골드바흐 파티션을 출력한다. 출력하는 소수는 작은 것부터 먼저 출력하며, 공백으로 구분한다."
      ],
      "metadata": {
        "id": "qmy9bN4ry_Sa"
      }
    },
    {
      "cell_type": "code",
      "source": [
        "#9020\n",
        "# 두 소수의 차이가 가장 작으려면 (입력받은 숫자/2) 와 가장 가까운 소수 2개를 찾으면 됨\n",
        "# 나누기 2 했을때 소수면 더 좋고 \n",
        "\n",
        "n =  int(input())\n",
        "data = tuple( map( int, (input().strip() for _ in range(n)  ) )) #줄바꾸기 입력받기 \n",
        "\n",
        "\n",
        "def sosu(x):\n",
        "    yaksu = []\n",
        "    for a in range(1, int(x+1)) :\n",
        "        if x%a == 0 : \n",
        "            yaksu.append(a) #약수 판정\n",
        "    if len(yaksu) == 2 :\n",
        "        return True\n",
        "    else :\n",
        "        return False\n",
        "\n",
        "for j in data:\n",
        "    k = int(j/2)           \n",
        "    for l in range(0, k): #이거 0부터인 이유 = 반으로 나눴을 때 소수인 경우 포함시켜줘야함\n",
        "        if (sosu(k-l) == True) and (sosu(k+l) == True):\n",
        "            print(k-l, k+l)\n",
        "            break #안끊어주면 순서쌍나옴\n"
      ],
      "metadata": {
        "colab": {
          "base_uri": "https://localhost:8080/"
        },
        "id": "-R7WU0OUljKl",
        "outputId": "799efbfb-c63a-41af-d8d4-e5b9a6bcfccc"
      },
      "execution_count": 12,
      "outputs": [
        {
          "output_type": "stream",
          "name": "stdout",
          "text": [
            "3\n",
            "8\n",
            "10\n",
            "16\n",
            "3 5\n",
            "5 5\n",
            "5 11\n"
          ]
        }
      ]
    },
    {
      "cell_type": "markdown",
      "source": [
        ">7단계       \n",
        "\n",
        "문제   \n",
        "한수는 지금 (x, y)에 있다. 직사각형은 각 변이 좌표축에 평행하고, 왼쪽 아래 꼭짓점은 (0, 0), 오른쪽 위 꼭짓점은 (w, h)에 있다. 직사각형의 경계선까지 가는 거리의 최솟값을 구하는 프로그램을 작성하시오.   \n",
        "   \n",
        "입력   \n",
        "첫째 줄에 x, y, w, h가 주어진다.   \n",
        "   \n",
        "출력   \n",
        "첫째 줄에 문제의 정답을 출력한다."
      ],
      "metadata": {
        "id": "cz0qg_FQH6sP"
      }
    },
    {
      "cell_type": "code",
      "source": [
        "#1085번\n",
        "data = list((map(int, input().split()) ))\n",
        "#x, w-x, y, h-y 중에 가장 작은 것 출력\n",
        "print(  min(    [   data[0],(data[2]-data[0]), data[1], (data[3]-data[1]) ] )     ) \n"
      ],
      "metadata": {
        "colab": {
          "base_uri": "https://localhost:8080/"
        },
        "id": "mvY82YOwDzBk",
        "outputId": "8a004f7c-c735-40a3-f561-d7e1c72f2b64"
      },
      "execution_count": null,
      "outputs": [
        {
          "output_type": "stream",
          "name": "stdout",
          "text": [
            "653 375 1000 1000\n",
            "347\n"
          ]
        }
      ]
    },
    {
      "cell_type": "markdown",
      "source": [
        ">8단계   \n",
        "\n",
        "문제   \n",
        "세 점이 주어졌을 때, 축에 평행한 직사각형을 만들기 위해서 필요한 네 번째 점을 찾는 프로그램을 작성하시오.\n",
        "\n",
        "입력   \n",
        "세 점의 좌표가 한 줄에 하나씩 주어진다. 좌표는 1보다 크거나 같고, 1000보다 작거나 같은 정수이다.\n",
        "\n",
        "출력   \n",
        "직사각형의 네 번째 점의 좌표를 출력한다."
      ],
      "metadata": {
        "id": "Ndg8iVSIKxD8"
      }
    },
    {
      "cell_type": "code",
      "source": [
        "#3009번 \n",
        "X = []\n",
        "Y = []\n",
        "\n",
        "# 꼭 세 점을 순서대로 받거나 각각 저장해 줄 필요는 없다 \n",
        "\n",
        "for i in range(3): \n",
        "    x, y = map(int, input().split()) \n",
        "    X.append(x) \n",
        "    Y.append(y)\n",
        "\n",
        "for i in range (3,6):\n",
        "    if (X[(i%3)] == X[((i+1)%3)]) :\n",
        "        a= X[((i+2)%3)]\n",
        "    if (Y[(i%3)] == Y[((i+1)%3)]) :\n",
        "        b= Y[((i+2)%3)]\n",
        "\n",
        "print (a,b)"
      ],
      "metadata": {
        "colab": {
          "base_uri": "https://localhost:8080/"
        },
        "id": "ZSCE3G-QKXEG",
        "outputId": "0146ec1d-669f-4ffd-b4d4-95b6934dc453"
      },
      "execution_count": null,
      "outputs": [
        {
          "output_type": "stream",
          "name": "stdout",
          "text": [
            "5 7\n",
            "7 5\n",
            "7 7 \n",
            "5 5\n"
          ]
        }
      ]
    },
    {
      "cell_type": "markdown",
      "source": [
        ">8단계   \n",
        "\n",
        "문제   \n",
        "과거 이집트인들은 각 변들의 길이가 3, 4, 5인 삼각형이 직각 삼각형인것을 알아냈다. 주어진 세변의 길이로 삼각형이 직각인지 아닌지 구분하시오.\n",
        "\n",
        "입력   \n",
        "입력은 여러개의 테스트케이스로 주어지며 마지막줄에는 0 0 0이 입력된다. 각 테스트케이스는 모두 30,000보다 작은 양의 정수로 주어지며, 각 입력은 변의 길이를 의미한다.\n",
        "\n",
        "출력   \n",
        "각 입력에 대해 직각 삼각형이 맞다면 \"right\", 아니라면 \"wrong\"을 출력한다."
      ],
      "metadata": {
        "id": "Nxa2VWyqQ0j1"
      }
    },
    {
      "cell_type": "code",
      "source": [
        "#4153번\n",
        "\n",
        "i=1\n",
        "\n",
        "while i==1 :\n",
        "    a, b, c = sorted(list( map( int, (input().split()) ))) # sort 안해주면 5 4 3 은 틀리다고 나옴\n",
        "    if (a and b and c) == 0 :\n",
        "        i= 0\n",
        "    elif (a**2 + b**2) == c**2 :\n",
        "        print(\"right\")\n",
        "        continue\n",
        "    else : \n",
        "        print(\"wrong\")\n",
        "        continue\n",
        "    "
      ],
      "metadata": {
        "colab": {
          "base_uri": "https://localhost:8080/"
        },
        "id": "PG1ukanKQ4-s",
        "outputId": "d6aaf0b1-60f7-497b-c2dc-a6f7f078e763"
      },
      "execution_count": null,
      "outputs": [
        {
          "name": "stdout",
          "output_type": "stream",
          "text": [
            "5 4 3\n",
            "right\n",
            "0 0 0\n"
          ]
        }
      ]
    },
    {
      "cell_type": "markdown",
      "source": [
        "> 10단계   \n",
        "\n",
        "문제   \n",
        "19세기 독일 수학자 헤르만 민코프스키는 비유클리드 기하학 중 택시 기하학을 고안했다.\n",
        "\n",
        "택시 기하학에서 두 점 T1(x1,y1), T2(x2,y2) 사이의 거리는 다음과 같이 구할 수 있다.\n",
        "\n",
        "D(T1,T2) = |x1-x2| + |y1-y2|\n",
        "\n",
        "두 점 사이의 거리를 제외한 나머지 정의는 유클리드 기하학에서의 정의와 같다.\n",
        "\n",
        "따라서 택시 기하학에서 원의 정의는 유클리드 기하학에서 원의 정의와 같다.\n",
        "\n",
        "원: 평면 상의 어떤 점에서 거리가 일정한 점들의 집합\n",
        "\n",
        "반지름 R이 주어졌을 때, 유클리드 기하학에서 원의 넓이와, 택시 기하학에서 원의 넓이를 구하는 프로그램을 작성하시오.\n",
        "   \n",
        "입력   \n",
        "첫째 줄에 반지름 R이 주어진다. R은 10,000보다 작거나 같은 자연수이다.\n",
        "   \n",
        "출력   \n",
        "첫째 줄에는 유클리드 기하학에서 반지름이 R인 원의 넓이를, 둘째 줄에는 택시 기하학에서 반지름이 R인 원의 넓이를 출력한다. 정답과의 오차는 0.0001까지 허용한다."
      ],
      "metadata": {
        "id": "439xYkxr1AJQ"
      }
    },
    {
      "cell_type": "code",
      "source": [
        "#3053번 풀어야함!!!!\n",
        "#택시 기하학 = 네모의 개수, 각 네모의 넓이는 1\n",
        "import math\n",
        "r=int(input())\n",
        "print((r**2)*(math.pi))\n",
        "print(2*(r**2))"
      ],
      "metadata": {
        "colab": {
          "base_uri": "https://localhost:8080/"
        },
        "id": "869lwJKC1Ij2",
        "outputId": "a3dbdaf5-ff4c-4886-ad38-af3be9765e9f"
      },
      "execution_count": null,
      "outputs": [
        {
          "output_type": "stream",
          "name": "stdout",
          "text": [
            "21\n",
            "1385.4423602330987\n",
            "882\n"
          ]
        }
      ]
    },
    {
      "cell_type": "markdown",
      "source": [
        "> 11단계    \n",
        "   \n",
        "문제\n",
        "조규현과 백승환은 터렛에 근무하는 직원이다. 하지만 워낙 존재감이 없어서 인구수는 차지하지 않는다.    \n",
        "이석원은 조규현과 백승환에게 상대편 마린(류재명)의 위치를 계산하라는 명령을 내렸다. 조규현과 백승환은 각각 자신의 터렛 위치에서 현재 적까지의 거리를 계산했다.   \n",
        "\n",
        "조규현의 좌표 (x1, y1)와 백승환의 좌표 (x2, y2)가 주어지고, 조규현이 계산한 류재명과의 거리 r1과 백승환이 계산한 류재명과의 거리 r2가 주어졌을 때, 류재명이 있을 수 있는 좌표의 수를 출력하는 프로그램을 작성하시오.\n",
        "\n",
        "입력\n",
        "첫째 줄에 테스트 케이스의 개수 T가 주어진다. 각 테스트 케이스는 다음과 같이 이루어져 있다.\n",
        "\n",
        "한 줄에 x1, y1, r1, x2, y2, r2가 주어진다. x1, y1, x2, y2는 -10,000보다 크거나 같고, 10,000보다 작거나 같은 정수이고, r1, r2는 10,000보다 작거나 같은 자연수이다.\n",
        "\n",
        "출력\n",
        "각 테스트 케이스마다 류재명이 있을 수 있는 위치의 수를 출력한다. 만약 류재명이 있을 수 있는 위치의 개수가 무한대일 경우에는 -1을 출력한다"
      ],
      "metadata": {
        "id": "im8QETduQ1qg"
      }
    },
    {
      "cell_type": "code",
      "source": [
        "#1002번\n",
        "n =  int(input())\n",
        "array = [list(map(int, input().split())) for _ in range(n) ] #공백으로 입력받기\n",
        "\n",
        "# 조 로부터 반지름 r1인 원, 류 로부터 반지름 r2인 원의 교점의 개수\n",
        "#2개 = 반지름 차 <두 중점 사이의 거리 < 반지름 합\n",
        "#1개인 경우: 원의 두 중점 사이의 거리 = 두 반지름의 합\n",
        "#0개인 경우: 원의 두 중점 사이의 거리 > 두 반지름의 합\n",
        "\n",
        "for i in range(0,n):\n",
        "    d = array[i]\n",
        "    #같은 원 먼저 제껴줌\n",
        "    dis = ( (d[3] - d[0])**2 + (d[4] - d[1])**2 )**(1/2)\n",
        "    if dis == 0 and (d[2] == d[5]):\n",
        "        print(-1)\n",
        "    #2개인 경우 \n",
        "    elif abs(d[2] - d[5])  < dis <  (d[2]+ d[5])  :\n",
        "        print(2)\n",
        "    #1개\n",
        "    elif ( dis == (d[2]+ d[5])) or (dis == abs(d[2] - d[5]) ):\n",
        "        print(1)\n",
        "    elif( dis > (d[2]+ d[5])) or (dis < abs(d[2] - d[5])) :\n",
        "        print(0)\n",
        "    \n",
        "\n"
      ],
      "metadata": {
        "id": "g6mB5Bxe1H5B",
        "colab": {
          "base_uri": "https://localhost:8080/"
        },
        "outputId": "41b385a4-0c03-4481-90da-afe52ec0d7a3"
      },
      "execution_count": null,
      "outputs": [
        {
          "output_type": "stream",
          "name": "stdout",
          "text": [
            "1\n",
            "2 2 5 2 2 5\n",
            "1\n"
          ]
        }
      ]
    }
  ]
}